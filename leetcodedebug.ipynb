{
  "nbformat": 4,
  "nbformat_minor": 0,
  "metadata": {
    "colab": {
      "provenance": []
    },
    "kernelspec": {
      "name": "python3",
      "display_name": "Python 3"
    },
    "language_info": {
      "name": "python"
    }
  },
  "cells": [
    {
      "cell_type": "code",
      "execution_count": null,
      "metadata": {
        "colab": {
          "base_uri": "https://localhost:8080/"
        },
        "id": "ExFQ1yDUGJ5O",
        "outputId": "336afa6a-f2d6-4eb5-8198-93ae8691d11b"
      },
      "outputs": [
        {
          "output_type": "stream",
          "name": "stdout",
          "text": [
            "['1', '101', '11001', '1111101', '1001110001', '110000110101', '11110100001001']\n",
            "0\n",
            "-1\n",
            "takes 1622.92 micro seconds\n"
          ]
        }
      ],
      "source": [
        "from string import *\n",
        "from re import *\n",
        "from datetime import *\n",
        "from collections import *\n",
        "from heapq import *\n",
        "from bisect import *\n",
        "from copy import *\n",
        "from math import *\n",
        "from random import *\n",
        "from statistics import *\n",
        "from itertools import *\n",
        "from functools import *\n",
        "from operator import *\n",
        "from io import *\n",
        "from sys import *\n",
        "from json import *\n",
        "from builtins import *\n",
        "\n",
        "import string\n",
        "import re\n",
        "import datetime\n",
        "import collections\n",
        "import heapq\n",
        "import bisect\n",
        "import copy\n",
        "import math\n",
        "import random\n",
        "import statistics\n",
        "import itertools\n",
        "import functools\n",
        "import operator\n",
        "import io\n",
        "import sys\n",
        "import json\n",
        "\n",
        "from typing import *\n",
        "\n",
        "class TreeNode:\n",
        "    def __init__(self, val=0, left=None, right=None):\n",
        "        self.val = val\n",
        "        self.left = left\n",
        "        self.right = right\n",
        "\n",
        "def build_tree(s):\n",
        "    s = s[1:-1].split(',')\n",
        "    if len(s) == 0:\n",
        "        return\n",
        "    nodes = [('root', s[0])]\n",
        "    for i, c in enumerate(s[1:]):\n",
        "        if c != 'null':\n",
        "            if i & 1:\n",
        "                nodes.append((nodes[i // 2][0] + '.right', c))\n",
        "            else:\n",
        "                nodes.append((nodes[i // 2][0] + '.left', c))\n",
        "    return nodes[0]\n",
        "\n",
        "\n",
        "build_tree('[4,1,6,0,2,5,7,null,null,null,3,null,null,null,8]')\n",
        "\n",
        "class ListNode:\n",
        "    def __init__(self, val=0, next=None):\n",
        "        self.val = val\n",
        "        self.next = next\n",
        "\n",
        "\n",
        "def build_linked_list(input_list):\n",
        "    head = None\n",
        "    for i in range(len(input_list) - 1, -1, -1):\n",
        "        new_head = ListNode(input_list[i], head)\n",
        "        head = new_head\n",
        "    return head\n",
        "\n",
        "build_linked_list([1, 2, 3, 4])\n",
        "\n",
        "class Solution:\n",
        "    def minumbBeatuifulSubArray(self, s: str) -> int:\n",
        "        n = len(s)\n",
        "        power_binary = []\n",
        "        while True:\n",
        "            binary = \"{0:b}\".format(5 ** len(power_binary))\n",
        "            if len(binary) <= 15:\n",
        "                power_binary.append(binary)\n",
        "            else:\n",
        "                break\n",
        "        print(power_binary)\n",
        "\n",
        "        @cache\n",
        "        def dfs(i):\n",
        "            print(i)\n",
        "            if i == n:\n",
        "                return 0\n",
        "            else:\n",
        "                if s[i] == '0':\n",
        "                    return 100\n",
        "                else:\n",
        "                    subans = 100\n",
        "                    j = i\n",
        "                    while j < n:\n",
        "                        if s[i:j+1] in power_binary:\n",
        "                            subans = min(dfs(j+1)+1, subans)\n",
        "                            print('call', j, subans)\n",
        "                        j += 1\n",
        "                    return subans\n",
        "        ans = dfs(0)\n",
        "        return ans if ans != 100 else -1\n",
        "\n",
        "\n",
        "\n",
        "\n",
        "\n",
        "\n",
        "solution = Solution()\n",
        "import time\n",
        "start_time = time.time()\n",
        "\n",
        "\n",
        "\n",
        "\n",
        "\n",
        "s = \"0\"\n",
        "print(solution.minumbBeatuifulSubArray(s))\n",
        "\n",
        "\n",
        "\n",
        "\n",
        "\n",
        "end_time = time.time()\n",
        "print(f'takes {(end_time - start_time)*1000000:.2f} micro seconds')"
      ]
    },
    {
      "cell_type": "code",
      "source": [
        "import random\n",
        "\n",
        "for i in range(10):\n",
        "    print([random.randint(1, 10) for _ in range(5)])"
      ],
      "metadata": {
        "colab": {
          "base_uri": "https://localhost:8080/"
        },
        "id": "xliPApqMsQqI",
        "outputId": "a40671bd-d718-46f2-ed63-96cd13f54375"
      },
      "execution_count": null,
      "outputs": [
        {
          "output_type": "stream",
          "name": "stdout",
          "text": [
            "[7, 2, 5, 3, 4]\n",
            "[6, 7, 8, 9, 3]\n",
            "[5, 7, 2, 3, 8]\n",
            "[7, 6, 5, 8, 8]\n",
            "[4, 4, 3, 7, 3]\n",
            "[4, 6, 7, 2, 8]\n",
            "[1, 7, 4, 8, 10]\n",
            "[3, 2, 7, 6, 10]\n",
            "[10, 4, 6, 5, 2]\n",
            "[9, 5, 5, 1, 6]\n"
          ]
        }
      ]
    }
  ]
}